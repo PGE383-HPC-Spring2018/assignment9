{
 "cells": [
  {
   "cell_type": "markdown",
   "metadata": {},
   "source": [
    "# Assignment 9\n",
    "\n",
    "This repository contains the same file `data_1.dat` from [Assignment 8](https://github.com/PGE383-HPC-Spring2018/assignment7) and Python classes named `StressStrainConverter` and `Toughness` that implement a solution to that assignment.\n",
    "\n",
    "You should complete the derived class `Plotter` to create the following plot exactly as shown. \n",
    "\n",
    "![img](ss_plot_gold.png)\n",
    "\n",
    "Specifically you will need to complete the `plot()` function.  Here are couple of hints to get things exactly right.\n",
    "\n",
    " * The gray fill color can be specified using the option `color='0.75'`.\n",
    " \n",
    " * The label in the center uses $\\LaTeX$, specifically it uses the `\\mathcal{T}` for the cursive T.\n",
    " \n",
    " * Don't hard code the value of toughness, but rather compute it, store it as a variable and use that to create the label.\n",
    " \n",
    "After you have the tests passing on Travis, check back in on the repository to view the PDF that was automatically generated.\n"
   ]
  },
  {
   "cell_type": "markdown",
   "metadata": {},
   "source": [
    "## Please Note\n",
    "\n",
    "You may write your code directly in the Jupyter Notebook below or convert the notebook to a plain Python file with the command\n",
    "\n",
    "```bash\n",
    "jupyter nbconvert --to python assignment9.ipynb\n",
    "```\n",
    "\n",
    "which will create a file `assignment9.py`.  If you commit this file to the repository, only the Python file will be tested (not the Jupyter notebook).  However, if you do not commit this file into the repository, the Jupyter notebook will be converted automatically on Travis before testing.  "
   ]
  },
  {
   "cell_type": "code",
   "execution_count": 1,
   "metadata": {},
   "outputs": [],
   "source": [
    "import numpy as np\n",
    "import linecache\n",
    "import scipy.integrate\n",
    "import matplotlib.pyplot as plt\n",
    "\n",
    "class StressStrainConverter():\n",
    "    \n",
    "    def __init__(self, filename):\n",
    "        \n",
    "        self.filename = filename\n",
    "        \n",
    "\n",
    "    def extract_dimensions(self):\n",
    "\n",
    "        line = linecache.getline(self.filename, 3).split('=')\n",
    "\n",
    "        self.width = float(line[1].split('\"')[0])\n",
    "\n",
    "        self.thickness = float(line[2].split('\"')[0]) \n",
    "\n",
    "        return\n",
    "    \n",
    "\n",
    "    def convert_to_true_stress_and_strain(self):\n",
    "        \n",
    "        self.extract_dimensions()\n",
    "\n",
    "        eng_strain, force = np.loadtxt(self.filename, skiprows=5, usecols=(2,3)).T \n",
    "\n",
    "        self.true_strain = np.log(1 + eng_strain)\n",
    "\n",
    "        self.true_stress = force / self.width / self.thickness * (1 + eng_strain)\n",
    "\n",
    "        return \n",
    "    \n",
    "    \n",
    "class Toughness(StressStrainConverter):\n",
    "    \n",
    "    def compute_toughness_simps(self):\n",
    "        \n",
    "        self.convert_to_true_stress_and_strain()\n",
    "        \n",
    "        return scipy.integrate.simps(self.true_stress, self.true_strain)\n",
    "    \n",
    "    def compute_toughness_trapz(self):\n",
    "        \n",
    "        self.convert_to_true_stress_and_strain()\n",
    "        \n",
    "        return scipy.integrate.trapz(self.true_stress, self.true_strain)\n",
    "    \n",
    "    \n",
    "class Plotter(Toughness):\n",
    "    \n",
    "    def plot(self):\n",
    "        \n",
    "        font = {\n",
    "        'color':  'b',\n",
    "        'weight': 'normal',\n",
    "        'size': 16,\n",
    "        }\n",
    "        \n",
    "        toughness = self.compute_toughness_simps()\n",
    "        \n",
    "        plt.figure(figsize=(8, 6), dpi=80)\n",
    "        plt.plot(self.true_strain, self.true_stress, 'k')\n",
    "        plt.fill_between(self.true_strain, self.true_stress, color='0.75')\n",
    "        plt.text(0.25, 60000, r'$\\mathcal{T} =$' + str(int(np.around(toughness))) + ' psi', fontdict=font)\n",
    "        plt.xlabel(r'$\\varepsilon$ (in/in)')\n",
    "        plt.ylabel(r'$\\sigma$ (psi)')\n",
    "    \n",
    "    def plot_png(self, basename):\n",
    "        \n",
    "        self.plot()\n",
    "        \n",
    "        plt.savefig(basename + '.png', bbox_inches='tight')\n",
    "        \n",
    "    def plot_pgf(self, basename):\n",
    "        \n",
    "        self.plot()\n",
    "        \n",
    "        plt.savefig(basename + '.pgf', bbox_inches='tight')"
   ]
  },
  {
   "cell_type": "code",
   "execution_count": 2,
   "metadata": {},
   "outputs": [],
   "source": [
    "import skimage\n",
    "import skimage.measure\n",
    "import skimage.transform\n",
    "import cv2\n",
    "\n",
    "def test_plot():\n",
    "    \n",
    "    p = Plotter('data_1.dat')\n",
    "    p.plot_png('ss_plot')\n",
    "    \n",
    "    gold_image = cv2.imread('ss_plot_gold.png')\n",
    "    test_image = cv2.imread('ss_plot.png')\n",
    "    \n",
    "    test_image_resized = skimage.transform.resize(test_image, \n",
    "                                                  (gold_image.shape[0], gold_image.shape[1]), \n",
    "                                                  mode='constant')\n",
    "    \n",
    "    ssim = skimage.measure.compare_ssim(skimage.img_as_float(gold_image), test_image_resized, multichannel=True)\n",
    "    assert ssim >= 0.9"
   ]
  },
  {
   "cell_type": "code",
   "execution_count": 3,
   "metadata": {},
   "outputs": [
    {
     "data": {
      "image/png": "[encoded data removed]",
      "text/plain": [
       "<matplotlib.figure.Figure at 0x111eeb828>"
      ]
     },
     "metadata": {},
     "output_type": "display_data"
    }
   ],
   "source": [
    "test_plot()"
   ]
  }
 ],
 "metadata": {
  "kernelspec": {
   "display_name": "Python 3",
   "language": "python",
   "name": "python3"
  },
  "language_info": {
   "codemirror_mode": {
    "name": "ipython",
    "version": 3
   },
   "file_extension": ".py",
   "mimetype": "text/x-python",
   "name": "python",
   "nbconvert_exporter": "python",
   "pygments_lexer": "ipython3",
   "version": "3.6.4"
  }
 },
 "nbformat": 4,
 "nbformat_minor": 2
}
